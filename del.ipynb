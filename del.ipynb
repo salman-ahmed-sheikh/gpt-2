{
 "metadata": {
  "language_info": {
   "codemirror_mode": {
    "name": "ipython",
    "version": 3
   },
   "file_extension": ".py",
   "mimetype": "text/x-python",
   "name": "python",
   "nbconvert_exporter": "python",
   "pygments_lexer": "ipython3",
   "version": "3.7.6-final"
  },
  "orig_nbformat": 2,
  "kernelspec": {
   "name": "python3",
   "display_name": "Python 3"
  }
 },
 "nbformat": 4,
 "nbformat_minor": 2,
 "cells": [
  {
   "cell_type": "code",
   "execution_count": 1,
   "metadata": {},
   "outputs": [],
   "source": [
    "from googletrans import Translator"
   ]
  },
  {
   "cell_type": "code",
   "execution_count": 2,
   "metadata": {},
   "outputs": [],
   "source": [
    "txt = \"If you are looking for a woodworking job, then it is likely that you will be asked to sign a contract. This contract will tell you what you are agreeing to as a worker and how much you are expected to make. It will also set the terms of your work. Contracts are a contract between the company that employs you and you. They are a means by which you agree to give up your right to a day's pay for every hour of work you do. Contracts have been around for many years, but most people don't consider them to be important issues. But, they are extremely important to a good working relationship between a worker and their employer. Contracts are very different from the old-fashioned work contracts that many people think of when they think of a contract. Work contracts are one-sided and don't give you much chance to negotiate. Work contracts are based on a set amount of pay, regardless of how long you work or how well you did. Contrary to what some people think, workers are not forced to sign work contracts. Workers can negotiate the terms of their contract. Some workers may have been working at a company for years without ever being asked to sign a work contract. Work contracts aren't a bad thing to have. They are a necessity for a good working relationship between a worker and the company. Work contracts can be a good thing if you work in a competitive industry, like a business. If you work in an industry that is not competitive, like a service industry, then a work contract may not be necessary. Work contracts are also a good thing if you are working for a company that is in a recession. In a recession, companies need to get workers back to work. Work contracts can also be a good thing if you are working for a company that will be downsizing or closing. During these times, it is important to be able to negotiate your own terms of employment. Contracts are a good thing to have, but they should not be the only thing you think about when you are negotiating your terms of employment with your employer. Instead, keep in mind that you have a right to negotiate for more money or a higher level of pay at any time. There are some situations in which a worker can only negotiate their own terms of employment with their employer. One of these situations is if you are working a job that is a \\\"joint and\""
   ]
  },
  {
   "cell_type": "code",
   "execution_count": 3,
   "metadata": {},
   "outputs": [
    {
     "output_type": "execute_result",
     "data": {
      "text/plain": [
       "'If you are looking for a woodworking job, then it is likely that you will be asked to sign a contract. This contract will tell you what you are agreeing to as a worker and how much you are expected to make. It will also set the terms of your work. Contracts are a contract between the company that employs you and you. They are a means by which you agree to give up your right to a day\\'s pay for every hour of work you do. Contracts have been around for many years, but most people don\\'t consider them to be important issues. But, they are extremely important to a good working relationship between a worker and their employer. Contracts are very different from the old-fashioned work contracts that many people think of when they think of a contract. Work contracts are one-sided and don\\'t give you much chance to negotiate. Work contracts are based on a set amount of pay, regardless of how long you work or how well you did. Contrary to what some people think, workers are not forced to sign work contracts. Workers can negotiate the terms of their contract. Some workers may have been working at a company for years without ever being asked to sign a work contract. Work contracts aren\\'t a bad thing to have. They are a necessity for a good working relationship between a worker and the company. Work contracts can be a good thing if you work in a competitive industry, like a business. If you work in an industry that is not competitive, like a service industry, then a work contract may not be necessary. Work contracts are also a good thing if you are working for a company that is in a recession. In a recession, companies need to get workers back to work. Work contracts can also be a good thing if you are working for a company that will be downsizing or closing. During these times, it is important to be able to negotiate your own terms of employment. Contracts are a good thing to have, but they should not be the only thing you think about when you are negotiating your terms of employment with your employer. Instead, keep in mind that you have a right to negotiate for more money or a higher level of pay at any time. There are some situations in which a worker can only negotiate their own terms of employment with their employer. One of these situations is if you are working a job that is a \"joint and'"
      ]
     },
     "metadata": {},
     "execution_count": 3
    }
   ],
   "source": [
    "txt"
   ]
  },
  {
   "cell_type": "code",
   "execution_count": 4,
   "metadata": {},
   "outputs": [],
   "source": [
    "translator = Translator()"
   ]
  },
  {
   "cell_type": "code",
   "execution_count": 6,
   "metadata": {},
   "outputs": [
    {
     "output_type": "execute_result",
     "data": {
      "text/plain": [
       "'Ha famegmunkálási munkát keres, akkor valószínű, hogy felkérik a szerződést. Ez a szerződés megmondja, hogy mit fogad el, mint munkavállaló, és mennyit vársz. Ezenkívül meghatározza a munkájának feltételeit is. A szerződések olyan szerződések, amelyek Ön és Ön által foglalkoztat. Ezek egy olyan eszköz, amellyel egyetért abban, hogy lemondjon egy nap fizetésére a munkaidő minden órájában. A szerződések már évek óta vannak, de a legtöbb ember nem tartja fontos kérdéseket. De rendkívül fontosak a munkavállaló és a munkáltatója közötti jó munkakapcsolathoz. A szerződések nagyon különböznek a régimódi munkaszerződésektől, amelyeket sokan azt gondolnak, amikor egy szerződésre gondolnak. A munkaszerződések egyoldalúak, és ne adj sok esélyt arra, hogy tárgyaljon. A munkaszerződések egy meghatározott fizetésösszegen alapulnak, függetlenül attól, hogy mennyi ideig dolgozol, vagy mennyire jól tetted. Ellentétben azzal, amit néhány ember gondol, a munkavállalók nem kényszerülnek a munkaszerződések aláírására. A munkavállalók tárgyalhatják a szerződésük feltételeit. Egyes munkavállalók évek óta dolgozhatnak egy vállalatnál, anélkül, hogy valaha is felkérik volna a munkaszerződést. A munkaszerződések nem rosszak. Ezek szükségességük a munkavállaló és a vállalat közötti jó munkakapcsolatra. A munkaszerződések jó dolog lehet, ha versenyképes iparban dolgozol, mint egy vállalkozás. Ha olyan iparágban dolgozik, amely nem versenyképes, mint egy szolgáltatási ipar, akkor a munkaszerződés nem szükséges. A munkaszerződések is jó dolog, ha olyan cégnél dolgozik, amely recesszióban van. A recesszióban a vállalatoknak meg kell kapniuk a munkavállalókat a munkába. A munkaszerződések is jó dolog lehet, ha dolgozik egy olyan cégnél, amely lecsökken, vagy zárja le. Ezekben az időkben fontos, hogy képes legyen tárgyalni a saját foglalkoztatási feltételeit. A szerződések jó dolog, de nem lehetnek az egyetlen dolog, amit gondolsz, amikor tárgyalásokat folytat a munkáltatójával. Ehelyett vegye figyelembe, hogy joguk van tárgyalni több pénzért vagy magasabb szintű fizetési szintre. Vannak olyan helyzetek, amelyekben a munkavállaló csak a munkáltatójával foglalkozik saját foglalkoztatási feltételeikkel. Az egyik ilyen helyzet, ha olyan munkát végez, amely egy \"közös és'"
      ]
     },
     "metadata": {},
     "execution_count": 6
    }
   ],
   "source": [
    "translator.translate(txt, dest = 'hu').text"
   ]
  },
  {
   "cell_type": "code",
   "execution_count": null,
   "metadata": {},
   "outputs": [],
   "source": []
  }
 ]
}